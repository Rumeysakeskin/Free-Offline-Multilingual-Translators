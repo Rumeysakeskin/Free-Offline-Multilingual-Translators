{
  "cells": [
    {
      "cell_type": "markdown",
      "metadata": {
        "id": "view-in-github",
        "colab_type": "text"
      },
      "source": [
        "<a href=\"https://colab.research.google.com/github/Rumeysakeskin/Lmama3-70b-Multi-language-Translate/blob/main/llama3_1_70b_translator.ipynb\" target=\"_parent\"><img src=\"https://colab.research.google.com/assets/colab-badge.svg\" alt=\"Open In Colab\"/></a>"
      ]
    },
    {
      "cell_type": "code",
      "execution_count": null,
      "metadata": {
        "colab": {
          "base_uri": "https://localhost:8080/"
        },
        "id": "WCK-5qcL94mB",
        "outputId": "229d0fbb-bfad-4eb0-856c-bc51381cebaf"
      },
      "outputs": [
        {
          "output_type": "stream",
          "name": "stdout",
          "text": [
            "\u001b[?25l   \u001b[90m━━━━━━━━━━━━━━━━━━━━━━━━━━━━━━━━━━━━━━━━\u001b[0m \u001b[32m0.0/106.5 kB\u001b[0m \u001b[31m?\u001b[0m eta \u001b[36m-:--:--\u001b[0m\r\u001b[2K   \u001b[90m━━━━━━━━━━━━━━━━━━━━━━━━━━━━━━━━━━━━━━━━\u001b[0m \u001b[32m106.5/106.5 kB\u001b[0m \u001b[31m3.3 MB/s\u001b[0m eta \u001b[36m0:00:00\u001b[0m\n",
            "\u001b[?25h\u001b[?25l   \u001b[90m━━━━━━━━━━━━━━━━━━━━━━━━━━━━━━━━━━━━━━━━\u001b[0m \u001b[32m0.0/76.4 kB\u001b[0m \u001b[31m?\u001b[0m eta \u001b[36m-:--:--\u001b[0m\r\u001b[2K   \u001b[90m━━━━━━━━━━━━━━━━━━━━━━━━━━━━━━━━━━━━━━━━\u001b[0m \u001b[32m76.4/76.4 kB\u001b[0m \u001b[31m3.4 MB/s\u001b[0m eta \u001b[36m0:00:00\u001b[0m\n",
            "\u001b[2K   \u001b[90m━━━━━━━━━━━━━━━━━━━━━━━━━━━━━━━━━━━━━━━━\u001b[0m \u001b[32m77.9/77.9 kB\u001b[0m \u001b[31m2.6 MB/s\u001b[0m eta \u001b[36m0:00:00\u001b[0m\n",
            "\u001b[2K   \u001b[90m━━━━━━━━━━━━━━━━━━━━━━━━━━━━━━━━━━━━━━━━\u001b[0m \u001b[32m58.3/58.3 kB\u001b[0m \u001b[31m2.7 MB/s\u001b[0m eta \u001b[36m0:00:00\u001b[0m\n",
            "\u001b[?25h"
          ]
        }
      ],
      "source": [
        "!pip install -q groq"
      ]
    },
    {
      "cell_type": "code",
      "execution_count": null,
      "metadata": {
        "colab": {
          "base_uri": "https://localhost:8080/"
        },
        "id": "aLwrvMumEcB3",
        "outputId": "ae732ed0-6a90-494b-de08-119b142ef81a"
      },
      "outputs": [
        {
          "output_type": "stream",
          "name": "stdout",
          "text": [
            "Birlik Heykeli dünyanın en yüksek heykeli olup, 182 metre yüksekliğindedir.\n"
          ]
        }
      ],
      "source": [
        "import datetime\n",
        "from groq import Groq\n",
        "import json\n",
        "import datetime\n",
        "import os\n",
        "GROQ_KEY = \"YOUR_API_KEY\"\n",
        "client = Groq(\n",
        "    api_key=GROQ_KEY,\n",
        ")\n",
        "MODEL = 'llama3-70b-8192'\n",
        "\n",
        "def run_conversation(user_prompt):\n",
        "\n",
        "      sys_prompt = \"\"\"\n",
        "      You are an intelligent assistant capable of translating text between different languages.\n",
        "\n",
        "      1. **Translation Task**: If the user asks to translate a text, translate the given text from the source language to the target language specified by the user.\n",
        "\n",
        "      **Guidelines**:\n",
        "      - Always identify the translation based on the user's prompt.\n",
        "      - Respond directly with the translated text without additional commentary.\n",
        "      \"\"\"\n",
        "\n",
        "      messages = [\n",
        "        {\n",
        "            \"role\": \"system\",\n",
        "            \"content\": sys_prompt\n",
        "        },\n",
        "    ]\n",
        "      messages.append({\n",
        "        \"role\": \"user\",\n",
        "        \"content\": user_prompt\n",
        "    })\n",
        "\n",
        "      response = client.chat.completions.create(\n",
        "        model=MODEL,\n",
        "        messages=messages,\n",
        "        max_tokens=4096,\n",
        "        temperature=0,\n",
        "    )\n",
        "\n",
        "      response_message = response.choices[0].message\n",
        "      return response_message.content\n",
        "\n",
        "\n",
        "language = \"Turkish\"\n",
        "\n",
        "user_input = \"The Statue of Unity is the world's tallest statue, with a height of 182 metres.\"\n",
        "\n",
        "if language:\n",
        "    input_text = f\"translate to {language.lower()}: {user_input}\"\n",
        "else:\n",
        "    print(\"Please provide text.\")\n",
        "\n",
        "bot_response = run_conversation(input_text)\n",
        "\n",
        "print(bot_response)\n"
      ]
    }
  ],
  "metadata": {
    "colab": {
      "provenance": [],
      "gpuType": "T4",
      "include_colab_link": true
    },
    "kernelspec": {
      "display_name": "Python 3",
      "name": "python3"
    },
    "language_info": {
      "name": "python"
    },
    "accelerator": "GPU"
  },
  "nbformat": 4,
  "nbformat_minor": 0
}